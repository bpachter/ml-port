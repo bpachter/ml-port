{
 "cells": [
  {
   "cell_type": "markdown",
   "id": "340ab25f",
   "metadata": {},
   "source": [
    "\n",
    "# Deep Neural Networks for Energy Forecasting\n",
    "\n",
    "\n",
    "In this notebook, we will apply deep learning using PyTorch to a real-world energy use case:  \n",
    "**Predicting backup generator activation for data centers based on environmental and operational variables**.\n",
    "\n",
    "We will build and train several deep neural networks, compare activation functions, and evaluate model performance."
   ]
  },
  {
   "cell_type": "markdown",
   "id": "445942ae",
   "metadata": {},
   "source": [
    "<h2>Libraries<h2>\n",
    "\n",
    "<h5>Naturally, please install the below referenced libraries before attempting to run locally.<h5> "
   ]
  },
  {
   "cell_type": "code",
   "execution_count": null,
   "id": "89ef71b0",
   "metadata": {},
   "outputs": [],
   "source": [
    "\n",
    "import torch\n",
    "import torch.nn as nn\n",
    "import torch.optim as optim\n",
    "import numpy as np\n",
    "import pandas as pd\n",
    "import matplotlib.pyplot as plt\n",
    "from sklearn.model_selection import train_test_split\n",
    "from sklearn.preprocessing import StandardScaler\n",
    "from sklearn.metrics import accuracy_score\n"
   ]
  },
  {
   "cell_type": "markdown",
   "id": "7a3a6603",
   "metadata": {},
   "source": [
    "## Step 1: Simulate Real-World Energy Data"
   ]
  },
  {
   "cell_type": "code",
   "execution_count": null,
   "id": "1869a93b",
   "metadata": {},
   "outputs": [],
   "source": [
    "\n",
    "np.random.seed(0)\n",
    "\n",
    "n_samples = 5000\n",
    "X = pd.DataFrame({\n",
    "    \"grid_load_kw\": np.random.normal(400, 100, n_samples),\n",
    "    \"fuel_pct_remaining\": np.random.uniform(0.1, 1.0, n_samples),\n",
    "    \"temperature_c\": np.random.normal(27, 5, n_samples),\n",
    "    \"humidity_pct\": np.random.uniform(20, 90, n_samples),\n",
    "    \"wind_speed_kph\": np.random.normal(15, 5, n_samples),\n",
    "    \"solar_irradiance_wm2\": np.random.uniform(0, 1000, n_samples),\n",
    "    \"main_grid_stability_score\": np.random.uniform(0.4, 1.0, n_samples),\n",
    "    \"minutes_since_last_start\": np.random.randint(0, 180, n_samples)\n",
    "})\n",
    "\n",
    "# Binary target: generator starts when fuel is low, grid is unstable, or temp is high\n",
    "y = ((X[\"fuel_pct_remaining\"] < 0.3) & \n",
    "     (X[\"main_grid_stability_score\"] < 0.6) & \n",
    "     (X[\"temperature_c\"] > 30)).astype(int)\n",
    "\n",
    "print(X.head())\n",
    "print(\"Target distribution:\", y.value_counts().to_dict())\n"
   ]
  },
  {
   "cell_type": "markdown",
   "id": "57f12c34",
   "metadata": {},
   "source": [
    "## Step 2: Data Preprocessing"
   ]
  },
  {
   "cell_type": "code",
   "execution_count": null,
   "id": "2c03814a",
   "metadata": {},
   "outputs": [],
   "source": [
    "\n",
    "scaler = StandardScaler()\n",
    "X_scaled = scaler.fit_transform(X)\n",
    "\n",
    "X_train, X_test, y_train, y_test = train_test_split(X_scaled, y, test_size=0.2, random_state=42)\n",
    "\n",
    "X_train = torch.tensor(X_train, dtype=torch.float32)\n",
    "X_test = torch.tensor(X_test, dtype=torch.float32)\n",
    "y_train = torch.tensor(y_train.values, dtype=torch.float32).unsqueeze(1)\n",
    "y_test = torch.tensor(y_test.values, dtype=torch.float32).unsqueeze(1)\n",
    "\n",
    "input_dim = X_train.shape[1]\n"
   ]
  },
  {
   "cell_type": "markdown",
   "id": "83f54835",
   "metadata": {},
   "source": [
    "## Step 3: Define Deep Neural Network"
   ]
  },
  {
   "cell_type": "code",
   "execution_count": null,
   "id": "dd521004",
   "metadata": {},
   "outputs": [],
   "source": [
    "\n",
    "class EnergyNet(nn.Module):\n",
    "    def __init__(self, input_dim, hidden1, hidden2, activation_fn):\n",
    "        super(EnergyNet, self).__init__()\n",
    "        self.fc1 = nn.Linear(input_dim, hidden1)\n",
    "        self.fc2 = nn.Linear(hidden1, hidden2)\n",
    "        self.fc3 = nn.Linear(hidden2, 1)\n",
    "        self.activation = activation_fn\n",
    "        self.output = nn.Sigmoid()\n",
    "\n",
    "    def forward(self, x):\n",
    "        x = self.activation(self.fc1(x))\n",
    "        x = self.activation(self.fc2(x))\n",
    "        x = self.output(self.fc3(x))\n",
    "        return x\n"
   ]
  },
  {
   "cell_type": "markdown",
   "id": "d7d71a71",
   "metadata": {},
   "source": [
    "## Step 4: Training Function"
   ]
  },
  {
   "cell_type": "code",
   "execution_count": null,
   "id": "6fa7fb1f",
   "metadata": {},
   "outputs": [],
   "source": [
    "\n",
    "def train_model(model, optimizer, criterion, X_train, y_train, X_test, y_test, epochs=200):\n",
    "    loss_list, acc_list = [], []\n",
    "\n",
    "    for epoch in range(epochs):\n",
    "        model.train()\n",
    "        y_pred = model(X_train)\n",
    "        loss = criterion(y_pred, y_train)\n",
    "\n",
    "        optimizer.zero_grad()\n",
    "        loss.backward()\n",
    "        optimizer.step()\n",
    "\n",
    "        model.eval()\n",
    "        with torch.no_grad():\n",
    "            y_test_pred = model(X_test)\n",
    "            preds = (y_test_pred > 0.5).float()\n",
    "            acc = accuracy_score(y_test.numpy(), preds.numpy())\n",
    "\n",
    "        loss_list.append(loss.item())\n",
    "        acc_list.append(acc)\n",
    "\n",
    "        if (epoch + 1) % 20 == 0:\n",
    "            print(f\"Epoch {epoch+1}: Loss = {loss.item():.4f}, Accuracy = {acc:.4f}\")\n",
    "\n",
    "    return loss_list, acc_list\n"
   ]
  },
  {
   "cell_type": "markdown",
   "id": "22740ab1",
   "metadata": {},
   "source": [
    "## Step 5: Compare Activation Functions"
   ]
  },
  {
   "cell_type": "code",
   "execution_count": null,
   "id": "42efc9e1",
   "metadata": {},
   "outputs": [],
   "source": [
    "\n",
    "results = {}\n",
    "criterion = nn.BCELoss()\n",
    "epochs = 200\n",
    "\n",
    "activations = {\n",
    "    \"Sigmoid\": torch.sigmoid,\n",
    "    \"Tanh\": torch.tanh,\n",
    "    \"ReLU\": torch.relu\n",
    "}\n",
    "\n",
    "for name, fn in activations.items():\n",
    "    print(f\"\\nTraining with {name}\")\n",
    "    model = EnergyNet(input_dim, 32, 16, fn)\n",
    "    optimizer = optim.Adam(model.parameters(), lr=0.01)\n",
    "    loss, acc = train_model(model, optimizer, criterion, X_train, y_train, X_test, y_test, epochs)\n",
    "    results[name] = {\"loss\": loss, \"acc\": acc}\n"
   ]
  },
  {
   "cell_type": "markdown",
   "id": "00a28dd0",
   "metadata": {},
   "source": [
    "## Step 6: Visualize Results"
   ]
  },
  {
   "cell_type": "code",
   "execution_count": null,
   "id": "882dd442",
   "metadata": {},
   "outputs": [],
   "source": [
    "\n",
    "plt.figure(figsize=(14,5))\n",
    "for name in results:\n",
    "    plt.plot(results[name][\"loss\"], label=f\"{name} Loss\")\n",
    "plt.title(\"Training Loss\")\n",
    "plt.xlabel(\"Epoch\")\n",
    "plt.ylabel(\"Loss\")\n",
    "plt.legend()\n",
    "plt.grid(True)\n",
    "plt.show()\n",
    "\n",
    "plt.figure(figsize=(14,5))\n",
    "for name in results:\n",
    "    plt.plot(results[name][\"acc\"], label=f\"{name} Accuracy\")\n",
    "plt.title(\"Validation Accuracy\")\n",
    "plt.xlabel(\"Epoch\")\n",
    "plt.ylabel(\"Accuracy\")\n",
    "plt.legend()\n",
    "plt.grid(True)\n",
    "plt.show()\n"
   ]
  }
 ],
 "metadata": {
  "kernelspec": {
   "display_name": ".venv",
   "language": "python",
   "name": "python3"
  },
  "language_info": {
   "codemirror_mode": {
    "name": "ipython",
    "version": 3
   },
   "file_extension": ".py",
   "mimetype": "text/x-python",
   "name": "python",
   "nbconvert_exporter": "python",
   "pygments_lexer": "ipython3",
   "version": "3.12.4"
  }
 },
 "nbformat": 4,
 "nbformat_minor": 5
}
